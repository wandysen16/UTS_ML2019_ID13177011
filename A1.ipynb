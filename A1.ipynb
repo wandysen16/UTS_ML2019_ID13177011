{
  "nbformat": 4,
  "nbformat_minor": 0,
  "metadata": {
    "colab": {
      "name": "A1.ipynb",
      "version": "0.3.2",
      "provenance": [],
      "include_colab_link": true
    },
    "kernelspec": {
      "name": "python3",
      "display_name": "Python 3"
    }
  },
  "cells": [
    {
      "cell_type": "markdown",
      "metadata": {
        "id": "view-in-github",
        "colab_type": "text"
      },
      "source": [
        "<a href=\"https://colab.research.google.com/github/wandysen16/UTS_ML2019_ID13177011/blob/master/A1.ipynb\" target=\"_parent\"><img src=\"https://colab.research.google.com/assets/colab-badge.svg\" alt=\"Open In Colab\"/></a>"
      ]
    },
    {
      "cell_type": "markdown",
      "metadata": {
        "id": "jqUKtS7lmbrk",
        "colab_type": "text"
      },
      "source": [
        "#Draft and Experiment Area\n",
        "\n",
        "\n",
        "\n",
        "\n"
      ]
    },
    {
      "cell_type": "markdown",
      "metadata": {
        "id": "nXvFAa9goDjq",
        "colab_type": "text"
      },
      "source": [
        "##First Impression\n",
        "I choose to read Generative Adversarial Networks paper.GAN is an unsupervised machine-learning algorithm proposed in 2014 by Ian J.Goodfellow. This paper proposes a new framework for estimating generative models by using an adversarial process, by using a generative model that captures data distribution and another discriminative model that predicts the probability that a sample came from the training data.GAN is made up of two competing models which run in competition with one another and can copy and capture variants of dataset. \n",
        "\n",
        "The impression I get when I'm reading the abstract and short introduction is this framework can be used to make other training algorithms which will be applied on optimization of another algorithms. This algorithm doesn't need Markov chains for generating sample and training model. This paper will demonstrate the result of research through qualitative and quantitative evaluation through the evaluation sample.\n",
        "\n",
        "This paper attracts me since the generative model proposed by the author can be thought of as similar to a team of criminals that try to produce fake currency and use it without detection, while the discriminative model is similar to the one used by police, which seeks to counterfeit the fake currency. By using this concept, both teams (police and criminal) can improve their methods until the counterfeits are equal on both sides.\n",
        "This paper will address several essential topics in the future such as multilayer perceptron, dropout algorithm, sample generator, image manipulation and many more.\n",
        "\n",
        "##Notions List\n",
        "The Phrase : \n",
        "In the space of arbitrary\n",
        "functions G and D, a unique solution exists, with G recovering thetraining data\n",
        "distribution and D equal to 1\n",
        "everywhere. In the case where G and D are defined\n",
        "by multilayer perceptrons, the entire system can be trained with backpropagation.\n",
        "There is no need for any Markov chains or unrolled approximate inference networks during either training or generation of samples. Experiments demonstrate\n",
        "the potential of the framework through qualitative and quantitative evaluation of\n",
        "the generated samples."
      ]
    },
    {
      "cell_type": "markdown",
      "metadata": {
        "id": "I250EwIHcc8V",
        "colab_type": "text"
      },
      "source": [
        "# Review Report on General Adverserial Network"
      ]
    },
    {
      "cell_type": "markdown",
      "metadata": {
        "id": "EREI2ka4cc8W",
        "colab_type": "text"
      },
      "source": [
        "## Introduction\n",
        "\n"
      ]
    },
    {
      "cell_type": "markdown",
      "metadata": {
        "id": "HfIjQ7JScc8X",
        "colab_type": "text"
      },
      "source": [
        "## Content"
      ]
    },
    {
      "cell_type": "markdown",
      "metadata": {
        "id": "IVuBQk2ccc8Y",
        "colab_type": "text"
      },
      "source": [
        "\n",
        "The primary purpose of deep learning is to discover hierarchical models that describe probability distributions over the types of data faced in artificial intelligence applications.Still, The most impactful successes in deep learning should have discriminative models which mapped a high-dimensional and much sensory input. The algorithms are often backpropagation and dropout algorithms, applying piecewise linear units which mainly worked well since it is using a well-behaved gradient.\n",
        "\n",
        "This paper is a research about Generative Adversarial Networks algorithm.GAN is an unsupervised machine-learning algorithm proposed in 2014 by Ian J.Goodfellow. The authors believe that deep generative models have had less of an impact, due to the problem of approximating many contraries probabilistic computations and the problem of leveraging the benefits of piecewise linear units in the generative context thus they proposed a new framework to overcome those issues.\n",
        "\n",
        "GAN is a framework for estimating generative models by using an adversarial process, by using a generative model that captures data distribution and another discriminative model that predicts the probability that a sample came from the training data.GAN is made up of two competing models which run in competition with one another and can copy and capture variants of the dataset. \n",
        "\n",
        "The concept of this generative models is similar to a team of criminals that try to produce fake currency and use it without detection, while the discriminative model is similar to the one used by police, which seeks to counterfeit the fake currency. By using this concept, both teams (police and criminal) can improve their methods until the counterfeits are equal on both sides. \n",
        "\n",
        "GAN generates training algorithms for many types of model and optimization algorithm. Based on the paper, random noise sent through a multilayer perceptron in order to produce samples for the generative model, and the discriminative model is also a multilayer perceptron. Both models are trained by using highly successful backpropagation, generative model sample and dropout algorithms without using Markov chains generating the sample and training model. \n",
        "\n",
        "\n",
        "\n",
        "\n",
        "\n",
        "\n"
      ]
    },
    {
      "cell_type": "markdown",
      "metadata": {
        "id": "e_XsBTmccc8Z",
        "colab_type": "text"
      },
      "source": [
        "## Innovation"
      ]
    },
    {
      "cell_type": "markdown",
      "metadata": {
        "id": "2Ni5d42qcc8a",
        "colab_type": "text"
      },
      "source": [
        "The background at the time of the work is that people understood deep learning should have a high-dimensional and rich sensory input, which involves a discriminative model. The successes of the learning also mainly based on the backpropagation and dropout algorithm, which utilized piecewise linear units that have a well-behaved gradient. However, deep generative models did not have a significant impact since the probabilistic computations happen on likelihood estimation and related strategies, and piecewise linear units should be able to generate context.This case leads to the usage of Markov decision chain, which has a very high computational cost.\n",
        "\n",
        "The creative idea by the author is to create data from scratch which solve the problem of generating data when we do not have a huge dataset, and additionally, it requires no human supervision which plays a vital role on artificial intelligence field as well as getting rid of the usage of Markov chain. GAN also increase efficiency in running the models and real-world data to be applied to the algorithm.\n",
        "\n",
        "The method is by adding two models, generator and discriminator to compete with each other. Generator model will learn the distribution of the classes while the discriminator model will learn the boundaries between both of the classes of the datasets. By doing this, the learning can be done from approximate inference between models without any sampling difficulties. In other words, the only backprop is utilized in order to get the gradients, no inference is needed during learning, and a wide variety of functions can be applied into the model. For instance, This methodology can be applied to drug research. A neural network can be applied to existing drug and suggest a new chemical structure to improve the existing drug. Another field which related to this methodology in the future is multilayer perceptron, dropout algorithm, sample generator, image manipulation, and many more."
      ]
    },
    {
      "cell_type": "markdown",
      "metadata": {
        "id": "beUqNhqccc8b",
        "colab_type": "text"
      },
      "source": [
        "## Technical quality"
      ]
    },
    {
      "cell_type": "markdown",
      "metadata": {
        "id": "JQJe7diQcc8c",
        "colab_type": "text"
      },
      "source": [
        "\n",
        "The technical development of the paper is of high quality. A huge range of suitable database has been applied to technical development. The author trained adversarial nets with a variety of datasets from MNIST (Database full of handwritten digit), TFD (Toronto Face Database) and CIFAR-10 Dataset (Tiny images database). The configurations were done on the net generator by using the mixture of linear rectifier activations and sigmoid activations , on another hand, a discriminator net used to max out activations. Dropout also applied on the training of the discriminator model. The author use noise as the input to only the lowest layer of the generator network. \n",
        "\n",
        "Multiple sample type were drawn to proof the algorithm ranging from handwriting, facial expression , tiny images, the animal which describes the usage of the algorithm in different dataset perspective which might be that the results in the paper could provide greater understanding by the reader from various aspect of the field.\n",
        "\n",
        "Other indicator of the good quality is that the authors are listing the advantage and the disadvantages of the GAN algorithm. The conclusions are listed well and coherent with the experiment. Future works are also added straightforwardly to widen any future research on the topic.\n",
        "\n",
        " "
      ]
    },
    {
      "cell_type": "markdown",
      "metadata": {
        "id": "HovtjSzPcc8d",
        "colab_type": "text"
      },
      "source": [
        "## Application and X-factor"
      ]
    },
    {
      "cell_type": "markdown",
      "metadata": {
        "id": "TV4VPbJHcc8g",
        "colab_type": "text"
      },
      "source": [
        "\n",
        "The application domain is appropriate for the GAN algorithm. The proposed technique, such as by using noise as the input on a data sample, the authors can estimate the probability of the test set data to the samples generated and reporting the log-likelihood under this distribution. This method of determining the likelihood suits the purpose of the explained algorithm to applying to current knowledge.\n",
        "\n",
        "The other application domain which can benefit from this research work is the astronomical field.GANs can improve the quality of cosmic images and simulate gravitational lensing for the research about dark matter. They were used in 2019 to model the appearance of dark matter in a distinct direction in space and to predict the gravitational lensing that will happen. In another field , such as fashion and advertising, GANs can be used to create photos of generated fashion models, without hiring the model, photographer, makeup artist, and pay for the studio and transportation fee . In another word, GAN is enabling the fashion industry to create digital supermodel.GANs can be used to create fashion advertising campaigns, including more various groups of models, which may increase enthusiastic of the customer to purchase among people relating to the models.\n",
        "\n",
        "\n",
        "\n",
        "\n"
      ]
    },
    {
      "cell_type": "markdown",
      "metadata": {
        "id": "hy0denzlcc8h",
        "colab_type": "text"
      },
      "source": [
        "## Presentation"
      ]
    },
    {
      "cell_type": "markdown",
      "metadata": {
        "id": "eqmCtvRrcc8i",
        "colab_type": "text"
      },
      "source": [
        "The paper is well organized and neat.  The layout and content are well aligned. The author is using a good picture to make the reading easier to understand the comparison between the sample of the data. The reference is also done perfectly. The sectioning and information alignment was correctly done. Overall, this is a valuable paper. The quality of the research paper could improve if the author decides to give more detailed bulleting and specify more section for the algorithm and the notation. Additionally, by adding more spacing to some of the text in the paper could ease the reader to read the research paper."
      ]
    },
    {
      "cell_type": "markdown",
      "metadata": {
        "id": "rSljqf89cc8k",
        "colab_type": "text"
      },
      "source": [
        "## References\n",
        "\n",
        "Goodfellow, I., Pouget-Abadie, J., Mirza, M., Xu, B., Warde-Farley, D., Ozair, S., Courville, A. & Bengio, Y. 2014, 'Generative adversarial nets', pp. 2672-80.\n",
        "\n",
        "Karras, T., Laine, S. & Aila, T. 2019, 'A style-based generator architecture for generative adversarial networks', pp. 4401-10.\n",
        "\n",
        "\n",
        "Mustafa, M., Bard, D., Bhimji, W., Lukić, Z., Al-Rfou, R. & Kratochvil, J.M. 2019, 'CosmoGAN: creating high-fidelity weak lensing convergence maps using Generative Adversarial Networks', Computational Astrophysics and Cosmology, vol. 6, no. 1, p. 1\n",
        "\n",
        "\n",
        "Schawinski, K., Zhang, C., Zhang, H., Fowler, L. & Santhanam, G.K. 2017, 'Generative adversarial networks recover features in astrophysical images of galaxies beyond the deconvolution limit', Monthly Notices of the Royal Astronomical Society: Letters, vol. 467, no. 1, pp. L110-L4.\n",
        "\n",
        "Wong, C. 2019, The Rise of AI Supermodels, CDO Trends, viewed 23-08 2019, <https://www.cdotrends.com/story/14300/rise-ai-supermodels>.\n",
        "\n",
        "\n",
        "\n"
      ]
    }
  ]
}